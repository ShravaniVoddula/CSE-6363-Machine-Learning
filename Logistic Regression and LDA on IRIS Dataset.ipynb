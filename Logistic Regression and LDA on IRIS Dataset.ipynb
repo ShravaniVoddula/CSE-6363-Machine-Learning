{
  "cells": [
    {
      "cell_type": "code",
      "execution_count": null,
      "id": "6f0dcdb5-8c57-49cc-bae0-f0322e1bf80d",
      "metadata": {
        "id": "6f0dcdb5-8c57-49cc-bae0-f0322e1bf80d"
      },
      "outputs": [],
      "source": [
        "#importing necessary libraries\n",
        "\n",
        "import pandas as pd\n",
        "import statistics\n",
        "import numpy as np\n",
        "from sklearn import datasets\n",
        "from mlxtend.plotting.decision_regions import plot_decision_regions\n",
        "import matplotlib.pyplot as plt"
      ]
    },
    {
      "cell_type": "code",
      "execution_count": null,
      "id": "c40cfb39-2f6f-41ee-8a7a-75c9eaebaf2f",
      "metadata": {
        "id": "c40cfb39-2f6f-41ee-8a7a-75c9eaebaf2f"
      },
      "outputs": [],
      "source": [
        "from sklearn.datasets import load_iris\n",
        "iris_dataset = load_iris()\n",
        "target = iris_dataset.target\n",
        "classes = pd.unique(target)\n",
        "no_of_classes= len(classes)"
      ]
    },
    {
      "cell_type": "markdown",
      "id": "b4caef0d-2e6a-4f39-8de0-89a0b76f81e4",
      "metadata": {
        "id": "b4caef0d-2e6a-4f39-8de0-89a0b76f81e4"
      },
      "source": [
        "LOGISTIC REGRESSION USING ONE-HOT ENCODING"
      ]
    },
    {
      "cell_type": "code",
      "execution_count": null,
      "id": "84f1fd94-3641-4440-b03c-e0cd3e132047",
      "metadata": {
        "id": "84f1fd94-3641-4440-b03c-e0cd3e132047"
      },
      "outputs": [],
      "source": [
        "#one hot encoding\n",
        "def get_one_hot(targets, n0_classes):\n",
        "    res = np.eye(n0_classes)[np.array(targets).reshape(-1)]\n",
        "    return res.reshape(list(targets.shape)+[n0_classes])"
      ]
    },
    {
      "cell_type": "code",
      "execution_count": null,
      "id": "89c1e6fe-7a4b-43a7-9f06-4a0a6d894fa1",
      "metadata": {
        "id": "89c1e6fe-7a4b-43a7-9f06-4a0a6d894fa1"
      },
      "outputs": [],
      "source": [
        "#splitting the data into 90% of training and 10% of testing\n",
        "from sklearn.model_selection import train_test_split\n",
        "target_T=get_one_hot(iris_dataset.target,no_of_classes)\n",
        "x_train, x_test, y_train, y_test = train_test_split(iris_dataset.data,iris_dataset.target,test_size=0.1)\n",
        "target_T=get_one_hot(y_train,no_of_classes)"
      ]
    },
    {
      "cell_type": "code",
      "execution_count": null,
      "id": "fcebabea-566c-4371-b1d6-5fc573ce2662",
      "metadata": {
        "id": "fcebabea-566c-4371-b1d6-5fc573ce2662"
      },
      "outputs": [],
      "source": [
        "def z_(x,w1,bias):\n",
        "  return np.dot(x,w1.T) +bias\n",
        "def softmax_(z):\n",
        "  return (np.exp(z)/(np.sum(np.exp(z),axis=1)[:,None]))\n",
        "def gradient_W(y_hat,y,x):\n",
        "   return np.dot(x.T,(y_hat - y))\n",
        "def gradient_B(y_hat,y):\n",
        "   return np.sum(y_hat - y)\n",
        "def loss(y_hat,y,x):\n",
        "  return -1*(np.sum(y * np.log(y_hat)))\n"
      ]
    },
    {
      "cell_type": "code",
      "execution_count": null,
      "id": "627df66b-86d4-4723-93fb-4fb9812a3bef",
      "metadata": {
        "id": "627df66b-86d4-4723-93fb-4fb9812a3bef"
      },
      "outputs": [],
      "source": [
        "class logistic_regression():\n",
        "    def fit(self,X,Y,lr,lam,n):\n",
        "        w1=np.zeros([3,X.shape[1]])\n",
        "        w1=w1.T\n",
        "        bias = np.zeros([1,no_of_classes])\n",
        "        print(bias)\n",
        "        n0_of_samples=X.shape[0]\n",
        "        learning_rate=lr\n",
        "        for a in range(n):\n",
        "            z=np.dot(X,w1) +bias\n",
        "            sigma=softmax_(z)\n",
        "            cost_func= loss(sigma,Y,X)/n0_of_samples\n",
        "            grad_W=gradient_W(sigma,Y,X)/n0_of_samples\n",
        "            grad_B=gradient_B(sigma,Y)/n0_of_samples\n",
        "            w1=w1-learning_rate*grad_W*lam\n",
        "            b= bias-(learning_rate*grad_B)\n",
        "        print(\"LOSS = \",cost_func)\n",
        "        print(\"GRADIENT DESCENT of Slope= \",+grad_W)\n",
        "        print(\"GRADIENT DESCENT of intercept = \",+grad_B)\n",
        "        return w1,b\n",
        "    def predict(self,X):\n",
        "        y_hat =np.dot(X,W.T)+ B\n",
        "        return np.argmax(y_hat, axis=1)\n",
        "\n"
      ]
    },
    {
      "cell_type": "code",
      "execution_count": null,
      "id": "bb2cf803-7663-4273-85ff-f3fe60048099",
      "metadata": {
        "id": "bb2cf803-7663-4273-85ff-f3fe60048099",
        "outputId": "0fc6f3f8-a059-4f7a-e000-28d3c4c5f0f2"
      },
      "outputs": [
        {
          "name": "stdout",
          "output_type": "stream",
          "text": [
            "[[0. 0. 0.]]\n",
            "LOSS =  0.5072069007728702\n",
            "GRADIENT DESCENT of Slope=  [[ 0.00403903 -0.00181749 -0.00222154]\n",
            " [-0.00710196  0.00310194  0.00400002]]\n",
            "GRADIENT DESCENT of intercept =  -2.4671622769447924e-18\n",
            "THE PARAMETERS W,B\n",
            "W =  [[-2.71781135  4.86140297]\n",
            " [ 1.13839254 -1.9632484 ]\n",
            " [ 1.57941881 -2.89815457]] B =  [[4.93432455e-21 4.93432455e-21 4.93432455e-21]]\n",
            "[0 1 2 1 1 0 2 1 1 0 2 1 2 2 0]\n",
            "[0 1 2 2 1 0 2 2 1 0 1 2 2 1 0]\n"
          ]
        }
      ],
      "source": [
        "#model 1\n",
        "model1_LOG=logistic_regression()\n",
        "W,B=model1_LOG.fit(x_train[:,[0,1]],target_T,0.002,1,100000)\n",
        "W=W.T\n",
        "print(\"THE PARAMETERS W,B\")\n",
        "print(\"W = \",W,\"B = \",B)\n",
        "Y1_LOG=model1_LOG.predict(x_test[:,[0,1]])\n",
        "print(Y1_LOG)\n",
        "print(y_test)"
      ]
    },
    {
      "cell_type": "code",
      "execution_count": null,
      "id": "1b73b27d-3172-4384-9e7d-de8e1ccf403b",
      "metadata": {
        "id": "1b73b27d-3172-4384-9e7d-de8e1ccf403b",
        "outputId": "09858175-735a-47e2-f2e5-ac1381a157b1"
      },
      "outputs": [
        {
          "data": {
            "text/plain": [
              "Text(0, 0.5, 'sepal width [cm]')"
            ]
          },
          "execution_count": 699,
          "metadata": {},
          "output_type": "execute_result"
        },
        {
          "data": {
            "image/png": "[encoded data removed]",
            "text/plain": [
              "<Figure size 432x288 with 1 Axes>"
            ]
          },
          "metadata": {
            "needs_background": "light"
          },
          "output_type": "display_data"
        }
      ],
      "source": [
        "#@title Default title text\n",
        "plot_decision_regions(x_train[:,[0,1]],y_train,clf =model1_LOG)\n",
        "plt.xlabel('sepal length [cm]')\n",
        "plt.ylabel('sepal width [cm]')"
      ]
    },
    {
      "cell_type": "code",
      "execution_count": null,
      "id": "5e9b202e-a0e6-4fbf-a414-0b0add3ccecb",
      "metadata": {
        "id": "5e9b202e-a0e6-4fbf-a414-0b0add3ccecb",
        "outputId": "8e9c1aa0-b896-4f4b-8960-b3c0aa297839"
      },
      "outputs": [
        {
          "name": "stdout",
          "output_type": "stream",
          "text": [
            "[[0. 0. 0.]]\n",
            "LOSS =  0.5031394355977586\n",
            "GRADIENT DESCENT of Slope=  [[-2.02862770e-04  9.17840767e-05  1.11078694e-04]\n",
            " [ 7.88435747e-04 -3.65422075e-04 -4.23013672e-04]]\n",
            "GRADIENT DESCENT of intercept =  -8.22387425648264e-18\n",
            "THE PARAMETERS W,B\n",
            "W =  [[  3.94865672 -14.91584881]\n",
            " [ -0.97923196   4.44236817]\n",
            " [ -2.96942476  10.47348064]] B =  [[4.56425021e-22 4.56425021e-22 4.56425021e-22]]\n",
            "[0 2 1 2 2 0 2 1 1 1 1 2 2 1 0]\n",
            "[0 1 2 2 1 0 2 2 1 0 1 2 2 1 0]\n"
          ]
        }
      ],
      "source": [
        "# Model 2\n",
        "model2_LOG=logistic_regression()\n",
        "W,B=model2_LOG.fit(x_train[:,[2,3]],target_T,0.0000555,5123,10000)\n",
        "W=W.T\n",
        "print(\"THE PARAMETERS W,B\")\n",
        "print(\"W = \",W,\"B = \",B)\n",
        "Y2_LOG=model2_LOG.predict(x_test[:,[2,3]])\n",
        "print(Y2_LOG)\n",
        "print(y_test)"
      ]
    },
    {
      "cell_type": "code",
      "execution_count": null,
      "id": "362bd465-bc45-438f-8eae-cc0215abd64e",
      "metadata": {
        "id": "362bd465-bc45-438f-8eae-cc0215abd64e",
        "outputId": "e44baea0-45a8-4497-b1cf-0f23a11eafa1"
      },
      "outputs": [
        {
          "data": {
            "text/plain": [
              "Text(0, 0.5, 'petal width [cm]')"
            ]
          },
          "execution_count": 701,
          "metadata": {},
          "output_type": "execute_result"
        },
        {
          "data": {
            "image/png": "[encoded data removed]",
            "text/plain": [
              "<Figure size 432x288 with 1 Axes>"
            ]
          },
          "metadata": {
            "needs_background": "light"
          },
          "output_type": "display_data"
        }
      ],
      "source": [
        "#@title Default title text\n",
        "plot_decision_regions(x_train[:,[2,3]],y_train,clf =model2_LOG)\n",
        "plt.xlabel('petal length [cm]')\n",
        "plt.ylabel('petal width [cm]')"
      ]
    },
    {
      "cell_type": "code",
      "execution_count": null,
      "id": "d7d2242f-8487-4046-967c-5ceff2165603",
      "metadata": {
        "id": "d7d2242f-8487-4046-967c-5ceff2165603",
        "outputId": "d3d7be7b-f01b-4a6e-f932-1a490b2d5470"
      },
      "outputs": [
        {
          "name": "stdout",
          "output_type": "stream",
          "text": [
            "[[0. 0. 0.]]\n",
            "LOSS =  0.0766001820591336\n",
            "GRADIENT DESCENT of Slope=  [[-4.16841778e-04 -2.45127740e-04  6.61969518e-04]\n",
            " [-8.09254539e-04 -2.99264818e-04  1.10851936e-03]\n",
            " [ 1.07046784e-03  7.75521586e-05 -1.14802000e-03]\n",
            " [ 5.89052384e-04  7.84482823e-04 -1.37353521e-03]]\n",
            "GRADIENT DESCENT of intercept =  1.7475732795025613e-17\n",
            "THE PARAMETERS W,B\n",
            "W =  [[ 1.82652296  3.84738655 -5.11103128 -2.5108596 ]\n",
            " [ 1.30443957  0.60564007 -0.34137955 -2.85779195]\n",
            " [-3.13096252 -4.45302662  5.45241083  5.36865155]] B =  [[-1.74757328e-18 -1.74757328e-18 -1.74757328e-18]]\n",
            "[0 1 2 2 1 0 2 1 1 0 1 2 2 1 0]\n",
            "[0 1 2 2 1 0 2 2 1 0 1 2 2 1 0]\n",
            "******************************************************************************************************\n"
          ]
        }
      ],
      "source": [
        "#Model 3\n",
        "model3_LOG=logistic_regression()\n",
        "W,B=model3_LOG.fit(x_train,target_T,0.1,1,10000)\n",
        "W=W.T\n",
        "print(\"THE PARAMETERS W,B\")\n",
        "print(\"W = \",W,\"B = \",B)\n",
        "Y3_LOG=model3_LOG.predict(x_test)\n",
        "print(Y3_LOG)\n",
        "print(y_test)\n",
        "print(\"******************************************************************************************************\")\n"
      ]
    },
    {
      "cell_type": "markdown",
      "id": "5d4d3a3e-ca07-4ae9-babf-1d584de2aec6",
      "metadata": {
        "id": "5d4d3a3e-ca07-4ae9-babf-1d584de2aec6"
      },
      "source": [
        "\n",
        "\n",
        "\n",
        "LINEAR DISCRIMINANT ANALYSIS"
      ]
    },
    {
      "cell_type": "code",
      "execution_count": null,
      "id": "2dd8496c-41e2-4233-8a12-cdbd0c29f256",
      "metadata": {
        "id": "2dd8496c-41e2-4233-8a12-cdbd0c29f256"
      },
      "outputs": [],
      "source": [
        "classes = pd.unique(target)\n",
        "no_of_classes= len(classes)\n",
        "def meanMAT(X):\n",
        "  mean_mat=[]\n",
        "  mean_matrix=np.zeros((no_of_classes,X.shape[1]))\n",
        "  for i in range(no_of_classes):\n",
        "    x_class=X[y_train==i]\n",
        "    mean_vector=np.mean(x_class,axis=0)\n",
        "    mean_mat.append(mean_vector)\n",
        "  mean_matrix=mean_matrix+mean_mat\n",
        "  return mean_matrix\n",
        "def cov(X,a,b,c):\n",
        "  n=[]\n",
        "  for i in range(no_of_classes):\n",
        "    n.append(len(X[y_train==i]))\n",
        "  n=n/np.sum(n)\n",
        "  covariance=((np.dot(a.T,a))*n[0])+((np.dot(b.T,b))*n[1])+((np.dot(c.T,c))*n[2])\n",
        "  return covariance,n"
      ]
    },
    {
      "cell_type": "code",
      "execution_count": null,
      "id": "f8387a98-57fb-4e4a-ae90-fd8a306fd45f",
      "metadata": {
        "id": "f8387a98-57fb-4e4a-ae90-fd8a306fd45f"
      },
      "outputs": [],
      "source": [
        "class LDA():\n",
        "    def fit(self,X,Y):\n",
        "        classes = pd.unique(target)\n",
        "        no_of_classes= len(classes)\n",
        "        mean_matrix=meanMAT(X)\n",
        "        print(\"MEAN MATRIX\",mean_matrix)\n",
        "        total_mean=np.mean(X,axis=0)\n",
        "        mean_diff_class_0=total_mean-mean_matrix[0]\n",
        "        mean_diff_class_1=total_mean-mean_matrix[1]\n",
        "        mean_diff_class_2=X[Y==2]-mean_matrix[2]\n",
        "        covarience_matrix,N=cov(X,mean_diff_class_0,mean_diff_class_1,mean_diff_class_2)\n",
        "        print(\"COVARIANCE MATRIX\",covarience_matrix)\n",
        "        inv_cov=np.linalg.inv(covarience_matrix)\n",
        "        w=np.zeros((no_of_classes,X.shape[1]))\n",
        "        b=np.zeros((no_of_classes,1))\n",
        "        for j in range(no_of_classes):\n",
        "            w[j]=np.dot(mean_matrix[j],inv_cov)\n",
        "            b[j]=np.log(N[j])-((0.5)*np.dot(w[j],mean_matrix[j].T))\n",
        "        return w,b\n",
        "   #W,B=fit(x_train,y_train)\n",
        "\n",
        "    def predict(self,X):\n",
        "        y_hat =np.dot(X,W.T)+B.T\n",
        "        return np.argmax(y_hat, axis=1)"
      ]
    },
    {
      "cell_type": "code",
      "execution_count": null,
      "id": "50197fb2-6661-41d7-aed4-2f0a9f2b1820",
      "metadata": {
        "id": "50197fb2-6661-41d7-aed4-2f0a9f2b1820",
        "outputId": "c19957fd-64f7-446c-d5a3-12c41868820a"
      },
      "outputs": [
        {
          "name": "stdout",
          "output_type": "stream",
          "text": [
            "MEAN MATRIX [[5.01304348 3.42608696]\n",
            " [5.90444444 2.75111111]\n",
            " [6.59318182 2.96136364]]\n",
            "COVARIANCE MATRIX [[5.67216538 1.33749872]\n",
            " [1.33749872 1.68816538]]\n",
            "THE PARAMETERS W,B\n",
            "W  =   [[0.49834773 1.63464287]\n",
            " [0.80754507 0.98984415]\n",
            " [0.92075037 1.0246989 ]] B =   [[-5.12596711]\n",
            " [-4.84425039]\n",
            " [-5.67367546]]\n"
          ]
        }
      ],
      "source": [
        "model1_LDA=LDA()\n",
        "W,B=model1_LDA.fit(x_train[:,[0,1]],y_train)\n",
        "print(\"THE PARAMETERS W,B\")\n",
        "print(\"W  =  \",W,\"B =  \",B)"
      ]
    },
    {
      "cell_type": "code",
      "execution_count": null,
      "id": "2e88c449-f13b-45d9-9af0-04193db52bc8",
      "metadata": {
        "id": "2e88c449-f13b-45d9-9af0-04193db52bc8",
        "outputId": "20298539-faa8-40f7-8469-752d50b354fd"
      },
      "outputs": [
        {
          "name": "stdout",
          "output_type": "stream",
          "text": [
            "[0 2 1 1 1 0 1 2 1 0 1 2 2 2 0]\n",
            "[0 1 2 2 1 0 2 2 1 0 1 2 2 1 0]\n"
          ]
        }
      ],
      "source": [
        "Y1_LDA=model1_LDA.predict(x_test[:,[0,1]])\n",
        "print(Y1_LDA)\n",
        "print(y_test)"
      ]
    },
    {
      "cell_type": "code",
      "execution_count": null,
      "id": "c6ab88bb-9f75-4ffa-8b0a-d93d1d8c1751",
      "metadata": {
        "id": "c6ab88bb-9f75-4ffa-8b0a-d93d1d8c1751",
        "outputId": "ffdf7bf9-e3db-4d81-e86c-b96d66dead5e"
      },
      "outputs": [
        {
          "data": {
            "text/plain": [
              "Text(0, 0.5, 'petal width [cm]')"
            ]
          },
          "execution_count": 719,
          "metadata": {},
          "output_type": "execute_result"
        },
        {
          "data": {
            "image/png": "[encoded data removed]",
            "text/plain": [
              "<Figure size 432x288 with 1 Axes>"
            ]
          },
          "metadata": {
            "needs_background": "light"
          },
          "output_type": "display_data"
        }
      ],
      "source": [
        "plot_decision_regions(x_train[:,[0,1]],y_train,clf =model1_LDA)\n",
        "plt.xlabel('petal length [cm]')\n",
        "plt.ylabel('petal width [cm]')"
      ]
    },
    {
      "cell_type": "code",
      "execution_count": null,
      "id": "aad9b6fc-e6c6-4707-90ca-cfbf32d1e103",
      "metadata": {
        "id": "aad9b6fc-e6c6-4707-90ca-cfbf32d1e103",
        "outputId": "1ab1690e-98d2-4be5-c9aa-971baec5cbb0"
      },
      "outputs": [
        {
          "name": "stdout",
          "output_type": "stream",
          "text": [
            "MEAN MATRIX [[1.45869565 0.24130435]\n",
            " [4.22       1.32      ]\n",
            " [5.55       2.01818182]]\n",
            "COVARIANCE MATRIX [[6.55942997 2.96446701]\n",
            " [2.96446701 3.23350404]]\n",
            "THE PARAMETERS W,B\n",
            "W  =   [[ 0.32212193 -0.22069417]\n",
            " [ 0.78347977 -0.31006608]\n",
            " [ 0.96306801 -0.25879093]] B =   [[-1.28494508]\n",
            " [-2.54711098]\n",
            " [-3.5324553 ]]\n"
          ]
        }
      ],
      "source": [
        "model2_LDA=LDA()\n",
        "W,B=model1_LDA.fit(x_train[:,[2,3]],y_train)\n",
        "print(\"THE PARAMETERS W,B\")\n",
        "print(\"W  =  \",W,\"B =  \",B)"
      ]
    },
    {
      "cell_type": "code",
      "execution_count": null,
      "id": "814705c1-6394-409c-a741-5831455740cd",
      "metadata": {
        "id": "814705c1-6394-409c-a741-5831455740cd",
        "outputId": "5f41afd5-1b1a-4819-ac70-c0e1a00974b9"
      },
      "outputs": [
        {
          "name": "stdout",
          "output_type": "stream",
          "text": [
            "[0 1 2 2 1 0 2 2 1 0 1 2 2 1 0]\n",
            "[0 1 2 2 1 0 2 2 1 0 1 2 2 1 0]\n"
          ]
        }
      ],
      "source": [
        "Y2_LDA=model2_LDA.predict(x_test[:,[2,3]])\n",
        "print(Y2_LDA)\n",
        "print(y_test)"
      ]
    },
    {
      "cell_type": "code",
      "execution_count": null,
      "id": "fab88473-1990-4d93-b587-a66e62edc22a",
      "metadata": {
        "id": "fab88473-1990-4d93-b587-a66e62edc22a"
      },
      "outputs": [],
      "source": []
    },
    {
      "cell_type": "code",
      "execution_count": null,
      "id": "e449754e-b54a-4658-bd6b-88ebc5663bd2",
      "metadata": {
        "id": "e449754e-b54a-4658-bd6b-88ebc5663bd2",
        "outputId": "ebbe83ea-1f6c-43c7-d78d-7ce9eafba5fd"
      },
      "outputs": [
        {
          "data": {
            "text/plain": [
              "Text(0, 0.5, 'petal width [cm]')"
            ]
          },
          "execution_count": 722,
          "metadata": {},
          "output_type": "execute_result"
        },
        {
          "data": {
            "image/png": "[encoded data removed]",
            "text/plain": [
              "<Figure size 432x288 with 1 Axes>"
            ]
          },
          "metadata": {
            "needs_background": "light"
          },
          "output_type": "display_data"
        }
      ],
      "source": [
        "plot_decision_regions(x_train[:,[2,3]],y_train,clf =model2_LDA)\n",
        "plt.xlabel('petal length [cm]')\n",
        "plt.ylabel('petal width [cm]')"
      ]
    },
    {
      "cell_type": "code",
      "execution_count": null,
      "id": "330239cc-f068-42ce-a7cf-8768664f755a",
      "metadata": {
        "id": "330239cc-f068-42ce-a7cf-8768664f755a",
        "outputId": "30e1c9b6-95ec-461a-81e3-80626c75cea5"
      },
      "outputs": [
        {
          "name": "stdout",
          "output_type": "stream",
          "text": [
            "MEAN MATRIX [[5.01304348 3.42608696 1.45869565 0.24130435]\n",
            " [5.90444444 2.75111111 4.22       1.32      ]\n",
            " [6.59318182 2.96136364 5.55       2.01818182]]\n",
            "COVARIANCE MATRIX [[7.7957435  3.46107683 6.60841017 3.27107683]\n",
            " [3.46107683 3.8117435  3.29048424 3.17833609]\n",
            " [6.60841017 3.29048424 6.86426202 3.26929906]\n",
            " [3.27107683 3.17833609 3.26929906 3.53833609]]\n",
            "THE PARAMETERS W,B\n",
            "W  =   [[ 2.15880869  2.89931742 -1.95956417 -2.72131544]\n",
            " [ 1.16613953  1.15179705 -0.41341747 -1.35762818]\n",
            " [ 0.80845721  0.70707427  0.13943673 -0.94098576]] B =   [[-9.6968546 ]\n",
            " [-4.35733069]\n",
            " [-4.27058661]]\n"
          ]
        }
      ],
      "source": [
        "model3_LDA=LDA()\n",
        "W,B=model1_LDA.fit(x_train,y_train)\n",
        "print(\"THE PARAMETERS W,B\")\n",
        "print(\"W  =  \",W,\"B =  \",B)"
      ]
    },
    {
      "cell_type": "code",
      "execution_count": null,
      "id": "1580c8bc-79f8-4388-9d8b-4ff3e6b5a0cb",
      "metadata": {
        "id": "1580c8bc-79f8-4388-9d8b-4ff3e6b5a0cb",
        "outputId": "3522f842-3934-4025-d94b-ec3fc0be667c"
      },
      "outputs": [
        {
          "name": "stdout",
          "output_type": "stream",
          "text": [
            "[0 1 2 2 1 0 2 1 1 0 1 2 2 1 0]\n",
            "[0 1 2 2 1 0 2 2 1 0 1 2 2 1 0]\n"
          ]
        }
      ],
      "source": [
        "Y3_LDA=model3_LDA.predict(x_test)\n",
        "print(Y3_LDA)\n",
        "print(y_test)"
      ]
    },
    {
      "cell_type": "code",
      "execution_count": null,
      "id": "a9ac461c-7d3e-4885-94e3-1065f8298b4c",
      "metadata": {
        "id": "a9ac461c-7d3e-4885-94e3-1065f8298b4c",
        "outputId": "ab802de2-0cac-4ee8-e7ac-95dd4adbb4e1"
      },
      "outputs": [
        {
          "data": {
            "text/plain": [
              "0.9333333333333333"
            ]
          },
          "execution_count": 725,
          "metadata": {},
          "output_type": "execute_result"
        }
      ],
      "source": [
        "from sklearn.metrics import accuracy_score\n",
        "accuracy_score(y_test, Y3_LDA)"
      ]
    },
    {
      "cell_type": "markdown",
      "id": "e228df34-b587-4604-87bb-068b5e8d70f2",
      "metadata": {
        "id": "e228df34-b587-4604-87bb-068b5e8d70f2"
      },
      "source": [
        "2.3 TESTING"
      ]
    },
    {
      "cell_type": "code",
      "execution_count": null,
      "id": "9d75fb4c-82e5-4387-be52-c4f02ad1b145",
      "metadata": {
        "id": "9d75fb4c-82e5-4387-be52-c4f02ad1b145",
        "outputId": "fa6f2eeb-acb6-410d-8868-6d99d0cdd31b"
      },
      "outputs": [
        {
          "name": "stdout",
          "output_type": "stream",
          "text": [
            "ACTUAL TEST VALUES               [0 1 2 2 1 0 2 2 1 0 1 2 2 1 0]\n",
            "TESTED VALUES FOR MODEL 1 OF LOG [0 1 2 1 1 0 2 1 1 0 2 1 2 2 0]\n",
            "TESTED VALUES FOR MODEL 2 OF LOG [0 2 1 2 2 0 2 1 1 1 1 2 2 1 0]\n",
            "TESTED VALUES FOR MODEL 3 OF LOG [0 1 2 2 1 0 2 1 1 0 1 2 2 1 0]\n",
            "TESTED VALUES FOR MODEL 1 OF LDA [0 2 1 1 1 0 1 2 1 0 1 2 2 2 0]\n",
            "TESTED VALUES FOR MODEL 1 OF LDA [0 1 2 2 1 0 2 2 1 0 1 2 2 1 0]\n",
            "TESTED VALUES FOR MODEL 1 OF LDA [0 1 2 2 1 0 2 1 1 0 1 2 2 1 0]\n"
          ]
        }
      ],
      "source": [
        "print(\"ACTUAL TEST VALUES              \",y_test)\n",
        "print(\"TESTED VALUES FOR MODEL 1 OF LOG\",Y1_LOG)\n",
        "print(\"TESTED VALUES FOR MODEL 2 OF LOG\",Y2_LOG)\n",
        "print(\"TESTED VALUES FOR MODEL 3 OF LOG\",Y3_LOG)\n",
        "print(\"TESTED VALUES FOR MODEL 1 OF LDA\",Y1_LDA)\n",
        "print(\"TESTED VALUES FOR MODEL 1 OF LDA\",Y2_LDA)\n",
        "print(\"TESTED VALUES FOR MODEL 1 OF LDA\",Y3_LDA)"
      ]
    },
    {
      "cell_type": "code",
      "execution_count": null,
      "id": "6c8a546c-59fd-45ef-ae63-104cb0583ae5",
      "metadata": {
        "id": "6c8a546c-59fd-45ef-ae63-104cb0583ae5",
        "outputId": "602c4082-576f-4ada-c03c-3784e48433c4"
      },
      "outputs": [
        {
          "name": "stdout",
          "output_type": "stream",
          "text": [
            "                                          ACCURACY\n",
            "                  LOGISTIC REGRESSION                LINEAR DISCRIMINANT ANALYSIS\n",
            "MODEL 1           0.6666666666666666                                0.6666666666666666\n",
            "MODEL 2           0.6666666666666666                                1.0\n",
            "MODEL 3           0.9333333333333333                                0.9333333333333333\n"
          ]
        }
      ],
      "source": [
        "print(\"                                          ACCURACY\")\n",
        "print(\"                  LOGISTIC REGRESSION                LINEAR DISCRIMINANT ANALYSIS\")\n",
        "print(\"MODEL 1          \",accuracy_score(y_test, Y1_LOG),\"                              \",accuracy_score(y_test, Y1_LDA))\n",
        "print(\"MODEL 2          \",accuracy_score(y_test, Y2_LOG),\"                              \",accuracy_score(y_test, Y2_LDA))\n",
        "print(\"MODEL 3          \",accuracy_score(y_test, Y3_LOG),\"                              \",accuracy_score(y_test, Y3_LDA))\n",
        "\n",
        "\n",
        "\n"
      ]
    },
    {
      "cell_type": "code",
      "execution_count": null,
      "id": "9d035cc0-94d8-435b-b9bc-fc7beee8d498",
      "metadata": {
        "id": "9d035cc0-94d8-435b-b9bc-fc7beee8d498"
      },
      "outputs": [],
      "source": []
    },
    {
      "cell_type": "code",
      "execution_count": null,
      "id": "edf90e54-e613-4491-8477-42de16043d7c",
      "metadata": {
        "id": "edf90e54-e613-4491-8477-42de16043d7c"
      },
      "outputs": [],
      "source": []
    }
  ],
  "metadata": {
    "kernelspec": {
      "display_name": "Python 3 (ipykernel)",
      "language": "python",
      "name": "python3"
    },
    "language_info": {
      "codemirror_mode": {
        "name": "ipython",
        "version": 3
      },
      "file_extension": ".py",
      "mimetype": "text/x-python",
      "name": "python",
      "nbconvert_exporter": "python",
      "pygments_lexer": "ipython3",
      "version": "3.9.12"
    },
    "colab": {
      "provenance": []
    }
  },
  "nbformat": 4,
  "nbformat_minor": 5
}