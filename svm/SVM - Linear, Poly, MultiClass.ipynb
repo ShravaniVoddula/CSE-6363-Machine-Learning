{
 "cells": [
  {
   "cell_type": "markdown",
   "id": "ececa6e9",
   "metadata": {},
   "source": [
    "# PLEASE EXECUTE EACH CELL ONE BY ONE"
   ]
  },
  {
   "cell_type": "markdown",
   "id": "f25db95e",
   "metadata": {},
   "source": [
    "# Non-Linear SVM"
   ]
  },
  {
   "cell_type": "markdown",
   "id": "46c100cb",
   "metadata": {},
   "source": [
    "Importing libraries"
   ]
  },
  {
   "cell_type": "code",
   "execution_count": 1,
   "id": "abd475d9",
   "metadata": {},
   "outputs": [
    {
     "name": "stdout",
     "output_type": "stream",
     "text": [
      "Requirement already satisfied: ipympl in /opt/anaconda3/lib/python3.9/site-packages (0.9.2)\n",
      "Requirement already satisfied: ipywidgets<9,>=7.6.0 in /opt/anaconda3/lib/python3.9/site-packages (from ipympl) (7.6.5)\n",
      "Requirement already satisfied: matplotlib<4,>=3.4.0 in /opt/anaconda3/lib/python3.9/site-packages (from ipympl) (3.5.1)\n",
      "Requirement already satisfied: numpy in /opt/anaconda3/lib/python3.9/site-packages (from ipympl) (1.21.5)\n",
      "Requirement already satisfied: ipython-genutils in /opt/anaconda3/lib/python3.9/site-packages (from ipympl) (0.2.0)\n",
      "Requirement already satisfied: traitlets<6 in /opt/anaconda3/lib/python3.9/site-packages (from ipympl) (5.1.1)\n",
      "Requirement already satisfied: pillow in /opt/anaconda3/lib/python3.9/site-packages (from ipympl) (9.0.1)\n",
      "Requirement already satisfied: ipython<9 in /opt/anaconda3/lib/python3.9/site-packages (from ipympl) (8.2.0)\n",
      "Requirement already satisfied: setuptools>=18.5 in /opt/anaconda3/lib/python3.9/site-packages (from ipython<9->ipympl) (61.2.0)\n",
      "Requirement already satisfied: appnope in /opt/anaconda3/lib/python3.9/site-packages (from ipython<9->ipympl) (0.1.2)\n",
      "Requirement already satisfied: pexpect>4.3 in /opt/anaconda3/lib/python3.9/site-packages (from ipython<9->ipympl) (4.8.0)\n",
      "Requirement already satisfied: prompt-toolkit!=3.0.0,!=3.0.1,<3.1.0,>=2.0.0 in /opt/anaconda3/lib/python3.9/site-packages (from ipython<9->ipympl) (3.0.20)\n",
      "Requirement already satisfied: decorator in /opt/anaconda3/lib/python3.9/site-packages (from ipython<9->ipympl) (5.1.1)\n",
      "Requirement already satisfied: matplotlib-inline in /opt/anaconda3/lib/python3.9/site-packages (from ipython<9->ipympl) (0.1.2)\n",
      "Requirement already satisfied: jedi>=0.16 in /opt/anaconda3/lib/python3.9/site-packages (from ipython<9->ipympl) (0.18.1)\n",
      "Requirement already satisfied: pickleshare in /opt/anaconda3/lib/python3.9/site-packages (from ipython<9->ipympl) (0.7.5)\n",
      "Requirement already satisfied: stack-data in /opt/anaconda3/lib/python3.9/site-packages (from ipython<9->ipympl) (0.2.0)\n",
      "Requirement already satisfied: pygments>=2.4.0 in /opt/anaconda3/lib/python3.9/site-packages (from ipython<9->ipympl) (2.11.2)\n",
      "Requirement already satisfied: backcall in /opt/anaconda3/lib/python3.9/site-packages (from ipython<9->ipympl) (0.2.0)\n",
      "Requirement already satisfied: nbformat>=4.2.0 in /opt/anaconda3/lib/python3.9/site-packages (from ipywidgets<9,>=7.6.0->ipympl) (5.3.0)\n",
      "Requirement already satisfied: widgetsnbextension~=3.5.0 in /opt/anaconda3/lib/python3.9/site-packages (from ipywidgets<9,>=7.6.0->ipympl) (3.5.2)\n",
      "Requirement already satisfied: jupyterlab-widgets>=1.0.0 in /opt/anaconda3/lib/python3.9/site-packages (from ipywidgets<9,>=7.6.0->ipympl) (1.0.0)\n",
      "Requirement already satisfied: ipykernel>=4.5.1 in /opt/anaconda3/lib/python3.9/site-packages (from ipywidgets<9,>=7.6.0->ipympl) (6.9.1)\n",
      "Requirement already satisfied: jupyter-client<8.0 in /opt/anaconda3/lib/python3.9/site-packages (from ipykernel>=4.5.1->ipywidgets<9,>=7.6.0->ipympl) (6.1.12)\n",
      "Requirement already satisfied: debugpy<2.0,>=1.0.0 in /opt/anaconda3/lib/python3.9/site-packages (from ipykernel>=4.5.1->ipywidgets<9,>=7.6.0->ipympl) (1.5.1)\n",
      "Requirement already satisfied: tornado<7.0,>=4.2 in /opt/anaconda3/lib/python3.9/site-packages (from ipykernel>=4.5.1->ipywidgets<9,>=7.6.0->ipympl) (6.1)\n",
      "Requirement already satisfied: nest-asyncio in /opt/anaconda3/lib/python3.9/site-packages (from ipykernel>=4.5.1->ipywidgets<9,>=7.6.0->ipympl) (1.5.5)\n",
      "Requirement already satisfied: parso<0.9.0,>=0.8.0 in /opt/anaconda3/lib/python3.9/site-packages (from jedi>=0.16->ipython<9->ipympl) (0.8.3)\n",
      "Requirement already satisfied: pyzmq>=13 in /opt/anaconda3/lib/python3.9/site-packages (from jupyter-client<8.0->ipykernel>=4.5.1->ipywidgets<9,>=7.6.0->ipympl) (22.3.0)\n",
      "Requirement already satisfied: jupyter-core>=4.6.0 in /opt/anaconda3/lib/python3.9/site-packages (from jupyter-client<8.0->ipykernel>=4.5.1->ipywidgets<9,>=7.6.0->ipympl) (4.9.2)\n",
      "Requirement already satisfied: python-dateutil>=2.1 in /opt/anaconda3/lib/python3.9/site-packages (from jupyter-client<8.0->ipykernel>=4.5.1->ipywidgets<9,>=7.6.0->ipympl) (2.8.2)\n",
      "Requirement already satisfied: fonttools>=4.22.0 in /opt/anaconda3/lib/python3.9/site-packages (from matplotlib<4,>=3.4.0->ipympl) (4.25.0)\n",
      "Requirement already satisfied: pyparsing>=2.2.1 in /opt/anaconda3/lib/python3.9/site-packages (from matplotlib<4,>=3.4.0->ipympl) (3.0.4)\n",
      "Requirement already satisfied: kiwisolver>=1.0.1 in /opt/anaconda3/lib/python3.9/site-packages (from matplotlib<4,>=3.4.0->ipympl) (1.3.2)\n",
      "Requirement already satisfied: packaging>=20.0 in /opt/anaconda3/lib/python3.9/site-packages (from matplotlib<4,>=3.4.0->ipympl) (21.3)\n",
      "Requirement already satisfied: cycler>=0.10 in /opt/anaconda3/lib/python3.9/site-packages (from matplotlib<4,>=3.4.0->ipympl) (0.11.0)\n",
      "Requirement already satisfied: jsonschema>=2.6 in /opt/anaconda3/lib/python3.9/site-packages (from nbformat>=4.2.0->ipywidgets<9,>=7.6.0->ipympl) (4.4.0)\n",
      "Requirement already satisfied: fastjsonschema in /opt/anaconda3/lib/python3.9/site-packages (from nbformat>=4.2.0->ipywidgets<9,>=7.6.0->ipympl) (2.15.1)\n",
      "Requirement already satisfied: attrs>=17.4.0 in /opt/anaconda3/lib/python3.9/site-packages (from jsonschema>=2.6->nbformat>=4.2.0->ipywidgets<9,>=7.6.0->ipympl) (21.4.0)\n",
      "Requirement already satisfied: pyrsistent!=0.17.0,!=0.17.1,!=0.17.2,>=0.14.0 in /opt/anaconda3/lib/python3.9/site-packages (from jsonschema>=2.6->nbformat>=4.2.0->ipywidgets<9,>=7.6.0->ipympl) (0.18.0)\n",
      "Requirement already satisfied: ptyprocess>=0.5 in /opt/anaconda3/lib/python3.9/site-packages (from pexpect>4.3->ipython<9->ipympl) (0.7.0)\n",
      "Requirement already satisfied: wcwidth in /opt/anaconda3/lib/python3.9/site-packages (from prompt-toolkit!=3.0.0,!=3.0.1,<3.1.0,>=2.0.0->ipython<9->ipympl) (0.2.5)\n",
      "Requirement already satisfied: six>=1.5 in /opt/anaconda3/lib/python3.9/site-packages (from python-dateutil>=2.1->jupyter-client<8.0->ipykernel>=4.5.1->ipywidgets<9,>=7.6.0->ipympl) (1.16.0)\n",
      "Requirement already satisfied: notebook>=4.4.1 in /opt/anaconda3/lib/python3.9/site-packages (from widgetsnbextension~=3.5.0->ipywidgets<9,>=7.6.0->ipympl) (6.4.8)\n",
      "Requirement already satisfied: terminado>=0.8.3 in /opt/anaconda3/lib/python3.9/site-packages (from notebook>=4.4.1->widgetsnbextension~=3.5.0->ipywidgets<9,>=7.6.0->ipympl) (0.13.1)\n",
      "Requirement already satisfied: argon2-cffi in /opt/anaconda3/lib/python3.9/site-packages (from notebook>=4.4.1->widgetsnbextension~=3.5.0->ipywidgets<9,>=7.6.0->ipympl) (21.3.0)\n",
      "Requirement already satisfied: Send2Trash>=1.8.0 in /opt/anaconda3/lib/python3.9/site-packages (from notebook>=4.4.1->widgetsnbextension~=3.5.0->ipywidgets<9,>=7.6.0->ipympl) (1.8.0)\n",
      "Requirement already satisfied: nbconvert in /opt/anaconda3/lib/python3.9/site-packages (from notebook>=4.4.1->widgetsnbextension~=3.5.0->ipywidgets<9,>=7.6.0->ipympl) (6.4.4)\n",
      "Requirement already satisfied: prometheus-client in /opt/anaconda3/lib/python3.9/site-packages (from notebook>=4.4.1->widgetsnbextension~=3.5.0->ipywidgets<9,>=7.6.0->ipympl) (0.13.1)\n",
      "Requirement already satisfied: jinja2 in /opt/anaconda3/lib/python3.9/site-packages (from notebook>=4.4.1->widgetsnbextension~=3.5.0->ipywidgets<9,>=7.6.0->ipympl) (2.11.3)\n",
      "Requirement already satisfied: argon2-cffi-bindings in /opt/anaconda3/lib/python3.9/site-packages (from argon2-cffi->notebook>=4.4.1->widgetsnbextension~=3.5.0->ipywidgets<9,>=7.6.0->ipympl) (21.2.0)\n",
      "Requirement already satisfied: cffi>=1.0.1 in /opt/anaconda3/lib/python3.9/site-packages (from argon2-cffi-bindings->argon2-cffi->notebook>=4.4.1->widgetsnbextension~=3.5.0->ipywidgets<9,>=7.6.0->ipympl) (1.15.0)\n",
      "Requirement already satisfied: pycparser in /opt/anaconda3/lib/python3.9/site-packages (from cffi>=1.0.1->argon2-cffi-bindings->argon2-cffi->notebook>=4.4.1->widgetsnbextension~=3.5.0->ipywidgets<9,>=7.6.0->ipympl) (2.21)\n",
      "Requirement already satisfied: MarkupSafe>=0.23 in /opt/anaconda3/lib/python3.9/site-packages (from jinja2->notebook>=4.4.1->widgetsnbextension~=3.5.0->ipywidgets<9,>=7.6.0->ipympl) (2.0.1)\n",
      "Requirement already satisfied: entrypoints>=0.2.2 in /opt/anaconda3/lib/python3.9/site-packages (from nbconvert->notebook>=4.4.1->widgetsnbextension~=3.5.0->ipywidgets<9,>=7.6.0->ipympl) (0.4)\n",
      "Requirement already satisfied: testpath in /opt/anaconda3/lib/python3.9/site-packages (from nbconvert->notebook>=4.4.1->widgetsnbextension~=3.5.0->ipywidgets<9,>=7.6.0->ipympl) (0.5.0)\n",
      "Requirement already satisfied: mistune<2,>=0.8.1 in /opt/anaconda3/lib/python3.9/site-packages (from nbconvert->notebook>=4.4.1->widgetsnbextension~=3.5.0->ipywidgets<9,>=7.6.0->ipympl) (0.8.4)\n",
      "Requirement already satisfied: bleach in /opt/anaconda3/lib/python3.9/site-packages (from nbconvert->notebook>=4.4.1->widgetsnbextension~=3.5.0->ipywidgets<9,>=7.6.0->ipympl) (4.1.0)\n",
      "Requirement already satisfied: nbclient<0.6.0,>=0.5.0 in /opt/anaconda3/lib/python3.9/site-packages (from nbconvert->notebook>=4.4.1->widgetsnbextension~=3.5.0->ipywidgets<9,>=7.6.0->ipympl) (0.5.13)\n",
      "Requirement already satisfied: jupyterlab-pygments in /opt/anaconda3/lib/python3.9/site-packages (from nbconvert->notebook>=4.4.1->widgetsnbextension~=3.5.0->ipywidgets<9,>=7.6.0->ipympl) (0.1.2)\n",
      "Requirement already satisfied: defusedxml in /opt/anaconda3/lib/python3.9/site-packages (from nbconvert->notebook>=4.4.1->widgetsnbextension~=3.5.0->ipywidgets<9,>=7.6.0->ipympl) (0.7.1)\n",
      "Requirement already satisfied: beautifulsoup4 in /opt/anaconda3/lib/python3.9/site-packages (from nbconvert->notebook>=4.4.1->widgetsnbextension~=3.5.0->ipywidgets<9,>=7.6.0->ipympl) (4.11.1)\n",
      "Requirement already satisfied: pandocfilters>=1.4.1 in /opt/anaconda3/lib/python3.9/site-packages (from nbconvert->notebook>=4.4.1->widgetsnbextension~=3.5.0->ipywidgets<9,>=7.6.0->ipympl) (1.5.0)\n",
      "Requirement already satisfied: soupsieve>1.2 in /opt/anaconda3/lib/python3.9/site-packages (from beautifulsoup4->nbconvert->notebook>=4.4.1->widgetsnbextension~=3.5.0->ipywidgets<9,>=7.6.0->ipympl) (2.3.1)\n",
      "Requirement already satisfied: webencodings in /opt/anaconda3/lib/python3.9/site-packages (from bleach->nbconvert->notebook>=4.4.1->widgetsnbextension~=3.5.0->ipywidgets<9,>=7.6.0->ipympl) (0.5.1)\n",
      "Requirement already satisfied: asttokens in /opt/anaconda3/lib/python3.9/site-packages (from stack-data->ipython<9->ipympl) (2.0.5)\n",
      "Requirement already satisfied: pure-eval in /opt/anaconda3/lib/python3.9/site-packages (from stack-data->ipython<9->ipympl) (0.2.2)\n",
      "Requirement already satisfied: executing in /opt/anaconda3/lib/python3.9/site-packages (from stack-data->ipython<9->ipympl) (0.8.3)\n",
      "Available matplotlib backends: ['tk', 'gtk', 'gtk3', 'gtk4', 'wx', 'qt4', 'qt5', 'qt6', 'qt', 'osx', 'nbagg', 'notebook', 'agg', 'svg', 'pdf', 'ps', 'inline', 'ipympl', 'widget']\n"
     ]
    }
   ],
   "source": [
    "import pandas as pd\n",
    "import statistics\n",
    "import numpy as np\n",
    "!pip install ipympl\n",
    "from sklearn import datasets\n",
    "from mlxtend.plotting.decision_regions import plot_decision_regions\n",
    "import matplotlib.pyplot as plt\n",
    "%matplotlib --list\n",
    "%matplotlib widget\n",
    "\n",
    "\n"
   ]
  },
  {
   "cell_type": "markdown",
   "id": "fa80d548",
   "metadata": {},
   "source": [
    "Generating Non-Linear DataSet"
   ]
  },
  {
   "cell_type": "code",
   "execution_count": 2,
   "id": "a4789f20",
   "metadata": {},
   "outputs": [],
   "source": [
    "from sklearn.datasets import make_circles\n",
    "from sklearn.model_selection import train_test_split\n",
    "\n",
    "X, y = make_circles(n_samples=100, factor=0.3, noise=0.15, random_state=0)\n",
    "y_=2*y-1\n",
    "x_train, x_test, y_train, y_test = train_test_split(X,y_,test_size=0.1)\n",
    "\n"
   ]
  },
  {
   "cell_type": "markdown",
   "id": "9ab1bc2b",
   "metadata": {},
   "source": [
    "Non-Linear SVM."
   ]
  },
  {
   "cell_type": "code",
   "execution_count": 3,
   "id": "c1b76049",
   "metadata": {},
   "outputs": [],
   "source": [
    "def linear_kernel(x1, x2):\n",
    "    return x1.T @ x2\n",
    "def poly_kernel(x1,x2):\n",
    "   return (np.dot(x1, x2.T) ** 2)\n",
    "\n",
    "\n",
    "class SVM():\n",
    "    def __init__(self, kernel, c=1.0, tol=1e-3, maxiter=1000):\n",
    "        self._kernel = kernel\n",
    "        self._tol = tol\n",
    "        self._maxiter = maxiter\n",
    "        \n",
    "        \n",
    "        \n",
    "        if self._kernel == 'linear':\n",
    "            self._k = linear_kernel\n",
    "            \n",
    "            \n",
    "        if self._kernel == 'poly':\n",
    "            self._k = poly_kernel\n",
    "        \n",
    "        \n",
    "          \n",
    "        \n",
    "        self._c = c\n",
    "        \n",
    "    def _init_params(self):\n",
    "        self._error_cache = np.zeros(self._data.shape[0])\n",
    "        self._alphas = np.ones(self._data.shape[0]) * .1\n",
    "        self._b = 0\n",
    "        \n",
    "        if self._kernel == 'linear':\n",
    "            self._weights = np.random.rand(self._data.shape[1])\n",
    "\n",
    "    def predict_score(self, x):\n",
    "        \"\"\"Predicts a raw score (not classification)\n",
    "        \n",
    "        Arguments\n",
    "            x, array (batch_size, n_features) - input samples.\n",
    "        \"\"\"\n",
    "        u = 0\n",
    "        if self._kernel == 'linear':\n",
    "            u = self._weights @ x.T - self._b\n",
    "        else:\n",
    "            for i in range(self._data.shape[0]):\n",
    "                u += self._targets[i] * self._alphas[i] * self._k(self._data[i], x)\n",
    "            u -= self._b\n",
    "\n",
    "        return u\n",
    "        \n",
    "    def predict(self, x):\n",
    "        \"\"\"Classifies input samples.\n",
    "        \n",
    "        Arguments\n",
    "            x, array (batch_size, n_features) - input samples.\n",
    "        \"\"\"\n",
    "        score = self.predict_score(x)\n",
    "\n",
    "        if type(score) is np.ndarray:\n",
    "            score[score < 0] = -1\n",
    "            score[score >= 0] = 1\n",
    "\n",
    "            return score\n",
    "        else:\n",
    "            return -1 if score < 0 else 1\n",
    "\n",
    "    def smo_step(self, i1, i2):\n",
    "        if i1 == i2:\n",
    "            return 0\n",
    "\n",
    "        x1 = self._data[i1]\n",
    "        x2 = self._data[i2]\n",
    "        y1 = self._targets[i1]\n",
    "        y2 = self._targets[i2]\n",
    "        alpha1 = self._alphas[i1]\n",
    "        alpha2 = self._alphas[i2]\n",
    "\n",
    "        # Compute errors for x1 and x2\n",
    "        e1 = self.predict_score(x1) - y1\n",
    "        e2 = self.predict_score(x2) - y2\n",
    "\n",
    "        s = y1 * y2\n",
    "\n",
    "        if s == 1:\n",
    "            L = max(0, alpha2 + alpha1 - self._c)\n",
    "            H = min(self._c, alpha2 + alpha1)\n",
    "        else:\n",
    "            L = max(0, alpha2 - alpha1)\n",
    "            H = min(self._c, self._c + alpha2 - alpha1)\n",
    "\n",
    "        if L == H:\n",
    "            return 0\n",
    "\n",
    "        k11 = self._k(x1, x1)\n",
    "        k22 = self._k(x2, x2)\n",
    "        k12 = self._k(x1, x2)\n",
    "\n",
    "        eta = k11 + k22 - 2 * k12\n",
    "\n",
    "        if eta > 0:\n",
    "            a2 = alpha2 + y2 * (e1 - e2) / eta\n",
    "            if a2 <= L:\n",
    "                a2 = L\n",
    "            elif a2 >= H:\n",
    "                a2 = H\n",
    "        # TODO: the negative case\n",
    "        else:\n",
    "            f1=y1*(e1+self._b)-alpha1*k11-s*alpha2*k12\n",
    "            f2=y2*(e2+self._b)-alpha2*k22-s*alpha1*k12\n",
    "            L1=alpha1+s*(alpha2-L)\n",
    "            H1=alpha1+s*(alpha2-H)\n",
    "            objL=(L1*f1)+(L*f2)+(0.5*L1*L1*k11)+(0.5*L*L*k22)+(s*L*L1*k12)\n",
    "            objH=(H1*f1)+(H*f2)+(0.5*H1*H1*k11)+(0.5*H*H*k22)+(s*H*H1*k12)\n",
    "            if(objL<objH-1e-3):\n",
    "                a2=L\n",
    "            elif(objL>objH+1e-3):\n",
    "                a2=H\n",
    "                \n",
    "            else:\n",
    "                a2=alpha2\n",
    "            \n",
    "            #print(f\"[DEBUG] smo_step: eta = {eta}\")\n",
    "            \n",
    "        if np.abs(a2 - alpha2) < 1e-3 * (a2 + alpha2 + 1e-3):\n",
    "            return 0\n",
    "\n",
    "        a1 = alpha1 + s * (alpha2 - a2)\n",
    "\n",
    "        # Update threshold to reflect change in Lagrange multipliers\n",
    "        b1 = e1 + y1 * (a1 - alpha1) * k11 + y2 * (a2 - alpha2) * k12 + self._b\n",
    "        b2 = e2 + y1 * (a1 - alpha1) * k12 + y2 * (a2 - alpha2) * k22 + self._b\n",
    "        self._b = (b1 + b2) / 2\n",
    "\n",
    "        # Update weight vector to reflect change in a1 & a2, if SVM is linear\n",
    "        if self._kernel == 'linear':\n",
    "            self._weights = np.sum((self._targets * self._alphas)[:, None] * self._data, axis=0)\n",
    "        \n",
    "        # Store a1 and a2 in alpha array\n",
    "        self._alphas[i1] = a1\n",
    "        self._alphas[i2] = a2\n",
    "\n",
    "        # update error cache using new multipliers\n",
    "        for i in range (self._data.shape[0]):\n",
    "            self._error_cache[i] = self.predict_score(self._data[i]) - self._targets[i]\n",
    "\n",
    "        return 1\n",
    "\n",
    "    def examine(self, i2):\n",
    "        x2 = self._data[i2]\n",
    "        y2 = self._targets[i2]\n",
    "        alpha2 = self._alphas[i2]\n",
    "        e2 = self.predict_score(x2) - y2\n",
    "        r2 = e2 * y2\n",
    "\n",
    "        # Heuristic for picking the first multiplier\n",
    "        if (r2 < -self._tol and alpha2 < self._c) or (r2 > self._tol and alpha2 > 0):\n",
    "            f_idxs = np.where((self._alphas != 0) & (self._alphas != self._c))[0]\n",
    "\n",
    "            if len(f_idxs) > 1:\n",
    "                # Hueristic for second multiplier: get i1 with lowest absolute error |e1 - e2|\n",
    "\n",
    "                # TODO: Clean this up\n",
    "                if e2 > 0:\n",
    "                    min_error = 999999\n",
    "                    for i, v in enumerate(f_idxs):\n",
    "                        if v == i2:\n",
    "                            continue\n",
    "\n",
    "                        if self._error_cache[v] == 0:\n",
    "                            self._error_cache[v] = self.predict_score(self._data[v]) - self._targets[v]\n",
    "                        error = np.abs(e2 - self._error_cache[v])\n",
    "\n",
    "                        if error < min_error:\n",
    "                            min_error = error\n",
    "                            i1 = v\n",
    "                else:\n",
    "                    max_error = -999999\n",
    "                    for i, v in enumerate(f_idxs):\n",
    "                        if v == i2:\n",
    "                            continue\n",
    "\n",
    "                        if self._error_cache[v] == 0:\n",
    "                            self._error_cache[v] = self.predict_score(self._data[v]) - self._targets[v]\n",
    "                        error = np.abs(e2 - self._error_cache[v])\n",
    "\n",
    "                        if error > max_error:\n",
    "                            max_error = error\n",
    "                            i1 = v\n",
    "\n",
    "                if self.smo_step(i1, i2):\n",
    "                    return 1\n",
    "                \n",
    "                # Loop over all non-zero and non-C alpha, starting at random point\n",
    "                for i, v in enumerate(np.random.permutation(f_idxs)):\n",
    "                    if self.smo_step(v, i2):\n",
    "                        return 1\n",
    "                \n",
    "                # Loop over all possible i1, starting at a random point\n",
    "                for i, v in enumerate(np.random.permutation(range(self._data.shape[0]))):\n",
    "                    if v == i2:\n",
    "                        continue\n",
    "                    if self.smo_step(v, i2):\n",
    "                        return 1\n",
    "                \n",
    "        return 0\n",
    "    \n",
    "    def fit(self, data, targets):\n",
    "        self._data = data\n",
    "        self._targets = targets\n",
    "        \n",
    "        self._init_params()\n",
    "        \n",
    "        n_changed = 0\n",
    "        examine_all = True\n",
    "        n_iter = 0\n",
    "        \n",
    "        while (n_changed > 0 or examine_all is True) and n_iter < self._maxiter:\n",
    "            n_changed = 0\n",
    "            n_iter += 1\n",
    "            \n",
    "            if examine_all is True:\n",
    "                # loop over all training examples\n",
    "                for i in range(data.shape[0]):\n",
    "                    n_changed += self.examine(i)\n",
    "            else:\n",
    "                # loop over examples where alpha is not 0 & not C\n",
    "                f_idxs = np.where((self._alphas != 0) & (self._alphas != self._c))[0]\n",
    "                for i, v in enumerate(f_idxs):\n",
    "                    n_changed += self.examine(v)\n",
    "            \n",
    "            if examine_all is True:\n",
    "                examine_all = False\n",
    "            elif n_changed == 0:\n",
    "                examine_all = True\n",
    "\n",
    "\n"
   ]
  },
  {
   "cell_type": "markdown",
   "id": "384b907d",
   "metadata": {},
   "source": [
    "# Non_Linear_SVM Without sklearn.svm.SVC"
   ]
  },
  {
   "cell_type": "markdown",
   "id": "03fc5b22",
   "metadata": {},
   "source": [
    "TRANING THE DATA!!"
   ]
  },
  {
   "cell_type": "code",
   "execution_count": 4,
   "id": "9d03318d",
   "metadata": {},
   "outputs": [],
   "source": [
    "model = SVM(kernel='poly',c=1.0)\n",
    "model.fit(x_train, y_train)"
   ]
  },
  {
   "cell_type": "markdown",
   "id": "1e7ac594",
   "metadata": {},
   "source": [
    "TESTING THE DATA!!\n",
    "\n"
   ]
  },
  {
   "cell_type": "code",
   "execution_count": 5,
   "id": "1adbdfb0",
   "metadata": {},
   "outputs": [
    {
     "name": "stdout",
     "output_type": "stream",
     "text": [
      "[-1. -1. -1.  1.  1.  1. -1. -1. -1. -1.]\n"
     ]
    }
   ],
   "source": [
    "y_predict_1=model.predict(x_test)\n",
    "print(y_predict_1)"
   ]
  },
  {
   "cell_type": "code",
   "execution_count": 6,
   "id": "7360b776",
   "metadata": {},
   "outputs": [
    {
     "name": "stdout",
     "output_type": "stream",
     "text": [
      "[-1 -1 -1  1  1  1 -1 -1 -1 -1]\n"
     ]
    }
   ],
   "source": [
    "print(y_test)"
   ]
  },
  {
   "cell_type": "markdown",
   "id": "5b93f411",
   "metadata": {},
   "source": [
    "ACCURACY"
   ]
  },
  {
   "cell_type": "code",
   "execution_count": 7,
   "id": "04bdb464",
   "metadata": {},
   "outputs": [
    {
     "name": "stdout",
     "output_type": "stream",
     "text": [
      "1.0\n"
     ]
    }
   ],
   "source": [
    "from sklearn.metrics import accuracy_score\n",
    "A1=accuracy_score(y_test, y_predict_1)\n",
    "print(A1)"
   ]
  },
  {
   "cell_type": "code",
   "execution_count": 8,
   "id": "555b5d8e",
   "metadata": {},
   "outputs": [
    {
     "data": {
      "image/png": "[encoded data removed]",
      "text/plain": [
       "<Figure size 432x288 with 1 Axes>"
      ]
     },
     "metadata": {
      "needs_background": "light"
     },
     "output_type": "display_data"
    }
   ],
   "source": [
    "%matplotlib inline\n",
    "plot_decision_regions(x_train,y_train,clf =model)\n",
    "plt.xlabel('X1')\n",
    "plt.ylabel('X2')\n",
    "plt.show()"
   ]
  },
  {
   "cell_type": "markdown",
   "id": "550efc9b",
   "metadata": {},
   "source": [
    "# Implementation Of linear SVM without sklearn.svm.SVC"
   ]
  },
  {
   "cell_type": "code",
   "execution_count": 10,
   "id": "8ed7ffeb",
   "metadata": {},
   "outputs": [],
   "source": [
    "model_LINEAR = SVM(kernel='linear',c=5.0)\n",
    "model_LINEAR.fit(x_train, y_train)"
   ]
  },
  {
   "cell_type": "code",
   "execution_count": 12,
   "id": "ef499876",
   "metadata": {},
   "outputs": [
    {
     "name": "stdout",
     "output_type": "stream",
     "text": [
      "weights=[-0.85513518 -1.14999281]\n",
      "b=-0.6238530506747597\n"
     ]
    }
   ],
   "source": [
    "print(f\"weights={model_LINEAR._weights}\")\n",
    "print(f\"b={model_LINEAR._b}\")\n"
   ]
  },
  {
   "cell_type": "code",
   "execution_count": 14,
   "id": "dd75149d",
   "metadata": {},
   "outputs": [
    {
     "name": "stdout",
     "output_type": "stream",
     "text": [
      "[ 1.  1.  1.  1.  1.  1. -1. -1.  1.  1.]\n"
     ]
    }
   ],
   "source": [
    "y_predict_LINEAR=model_LINEAR.predict(x_test)\n",
    "print(y_predict_LINEAR)"
   ]
  },
  {
   "cell_type": "code",
   "execution_count": 16,
   "id": "cd4fd180",
   "metadata": {},
   "outputs": [
    {
     "name": "stdout",
     "output_type": "stream",
     "text": [
      "0.5\n"
     ]
    }
   ],
   "source": [
    "from sklearn.metrics import accuracy_score\n",
    "A_LINEAR=accuracy_score(y_test, y_predict_LINEAR)\n",
    "print(A_LINEAR)"
   ]
  },
  {
   "cell_type": "code",
   "execution_count": 17,
   "id": "e78b943c",
   "metadata": {},
   "outputs": [
    {
     "data": {
      "image/png": "[encoded data removed]",
      "text/plain": [
       "<Figure size 432x288 with 1 Axes>"
      ]
     },
     "metadata": {
      "needs_background": "light"
     },
     "output_type": "display_data"
    }
   ],
   "source": [
    "%matplotlib inline\n",
    "plot_decision_regions(x_train,y_train.astype(np.int32),clf =model_LINEAR)\n",
    "plt.xlabel('X1')\n",
    "plt.ylabel('X2')\n",
    "plt.show()"
   ]
  },
  {
   "cell_type": "markdown",
   "id": "0dbfb216",
   "metadata": {},
   "source": [
    "# Implementation Of linear SVM with sklearn.svm.SVC "
   ]
  },
  {
   "cell_type": "code",
   "execution_count": 18,
   "id": "4c8f5c2e",
   "metadata": {},
   "outputs": [
    {
     "name": "stdout",
     "output_type": "stream",
     "text": [
      "[1 1 1 1 1 1 1 1 1 1]\n"
     ]
    }
   ],
   "source": [
    "from sklearn.svm import SVC\n",
    "clf1 = SVC(kernel='linear',C=0.5)\n",
    "clf1.fit(x_train, y_train)\n",
    "y_predict_2=clf1.predict(x_test)\n",
    "print(y_predict_2)\n"
   ]
  },
  {
   "cell_type": "code",
   "execution_count": 19,
   "id": "41589405",
   "metadata": {},
   "outputs": [
    {
     "name": "stdout",
     "output_type": "stream",
     "text": [
      "0.3\n"
     ]
    }
   ],
   "source": [
    "A2=accuracy_score(y_test, y_predict_2)\n",
    "print(A2)"
   ]
  },
  {
   "cell_type": "code",
   "execution_count": null,
   "id": "d11781af",
   "metadata": {},
   "outputs": [],
   "source": []
  },
  {
   "cell_type": "code",
   "execution_count": 20,
   "id": "87695cad",
   "metadata": {},
   "outputs": [
    {
     "name": "stderr",
     "output_type": "stream",
     "text": [
      "/opt/anaconda3/lib/python3.9/site-packages/mlxtend/plotting/decision_regions.py:269: UserWarning: No contour levels were found within the data range.\n",
      "  ax.contour(xx, yy, Z, cset.levels, **contour_kwargs)\n"
     ]
    },
    {
     "data": {
      "image/png": "[encoded data removed]",
      "text/plain": [
       "<Figure size 432x288 with 1 Axes>"
      ]
     },
     "metadata": {
      "needs_background": "light"
     },
     "output_type": "display_data"
    }
   ],
   "source": [
    "%matplotlib inline\n",
    "plot_decision_regions(x_train,y_train,clf =clf1,legend=2)\n",
    "plt.xlabel('X1')\n",
    "plt.ylabel('X2')\n",
    "plt.show()\n",
    "\n",
    "#plt.legend(loc='upper left')\n",
    "\n"
   ]
  },
  {
   "cell_type": "markdown",
   "id": "f0c7556f",
   "metadata": {},
   "source": [
    "# Implementation Of Non linear SVM with sklearn.svm.SVC "
   ]
  },
  {
   "cell_type": "code",
   "execution_count": 21,
   "id": "069a2ec1",
   "metadata": {},
   "outputs": [
    {
     "name": "stdout",
     "output_type": "stream",
     "text": [
      "[1 1 1 1 1 1 1 1 1 1]\n"
     ]
    }
   ],
   "source": [
    "from sklearn import svm\n",
    "clf2 = svm.SVC( kernel='poly',degree = 2)\n",
    "clf2.fit(x_train, y_train)\n",
    "y_predict_3=clf2.predict(x_test)\n",
    "print(y_predict_2)"
   ]
  },
  {
   "cell_type": "code",
   "execution_count": 22,
   "id": "61050e0f",
   "metadata": {},
   "outputs": [
    {
     "name": "stdout",
     "output_type": "stream",
     "text": [
      "1.0\n"
     ]
    }
   ],
   "source": [
    "A3=accuracy_score(y_test, y_predict_3)\n",
    "print(A3)"
   ]
  },
  {
   "cell_type": "code",
   "execution_count": 23,
   "id": "d2a1c017",
   "metadata": {},
   "outputs": [
    {
     "data": {
      "image/png": "[encoded data removed]",
      "text/plain": [
       "<Figure size 432x288 with 1 Axes>"
      ]
     },
     "metadata": {
      "needs_background": "light"
     },
     "output_type": "display_data"
    }
   ],
   "source": [
    "%matplotlib inline\n",
    "plot_decision_regions(x_train,y_train,clf =clf2)\n",
    "plt.xlabel('X1')\n",
    "plt.ylabel('X2')\n",
    "plt.show()\n",
    "\n"
   ]
  },
  {
   "cell_type": "markdown",
   "id": "8ac2d78b",
   "metadata": {},
   "source": [
    "# MULTICLASS"
   ]
  },
  {
   "cell_type": "markdown",
   "id": "6e0377c2",
   "metadata": {},
   "source": [
    "Importing lib"
   ]
  },
  {
   "cell_type": "code",
   "execution_count": 24,
   "id": "a7764ec4",
   "metadata": {},
   "outputs": [],
   "source": [
    "import pandas as pd\n",
    "import statistics\n",
    "import numpy as np\n",
    "from sklearn import datasets\n",
    "from mlxtend.plotting.decision_regions import plot_decision_regions\n",
    "import matplotlib.pyplot as plt\n"
   ]
  },
  {
   "cell_type": "markdown",
   "id": "1e0318d3",
   "metadata": {},
   "source": [
    "loading Data"
   ]
  },
  {
   "cell_type": "code",
   "execution_count": 25,
   "id": "1465488b",
   "metadata": {},
   "outputs": [],
   "source": [
    "from sklearn.datasets import load_iris\n",
    "iris_dataset = load_iris()\n",
    "Y=target = iris_dataset.target\n",
    "classes = pd.unique(target)\n",
    "no_of_classes= len(classes)\n"
   ]
  },
  {
   "cell_type": "code",
   "execution_count": 26,
   "id": "94f0a2d6",
   "metadata": {},
   "outputs": [],
   "source": [
    "from sklearn.model_selection import train_test_split\n",
    "x_train, x_test, y_train, y_test = train_test_split(iris_dataset.data,iris_dataset.target,test_size=0.1)\n",
    "\n"
   ]
  },
  {
   "cell_type": "code",
   "execution_count": 27,
   "id": "c26b0bd1",
   "metadata": {},
   "outputs": [
    {
     "name": "stdout",
     "output_type": "stream",
     "text": [
      "[0 0 0 1 2 2 1 0 1 0 2 0 2 1 2 0 2 2 2 1 1 2 2 0 1 0 0 0 2 2 0 2 2 0 2 0 2\n",
      " 1 1 2 1 2 0 1 0 0 2 0 0 2 0 0 1 0 2 2 0 0 0 2 2 1 1 0 1 0 0 0 2 1 2 0 2 1\n",
      " 1 2 2 1 0 1 1 2 2 1 0 1 1 2 2 0 1 2 0 2 1 1 1 1 0 1 1 0 1 1 2 2 0 1 1 2 2\n",
      " 0 1 2 1 0 1 0 2 1 2 1 2 1 1 0 2 2 1 0 2 1 1 0 0]\n"
     ]
    }
   ],
   "source": [
    "print(y_train)"
   ]
  },
  {
   "cell_type": "markdown",
   "id": "2b13109b",
   "metadata": {},
   "source": [
    "# MULTI CLASS SVM"
   ]
  },
  {
   "cell_type": "code",
   "execution_count": 28,
   "id": "19ee561d",
   "metadata": {},
   "outputs": [],
   "source": [
    "class MultiClassSvm():\n",
    "    def individualClass(self,x_train,y_train):\n",
    "        Classifier1_output=np.zeros([3,x_train.shape[0]])\n",
    "        for j in range (no_of_classes):\n",
    "            for i in range(x_train.shape[0]):\n",
    "                if (y_train[i]==j):\n",
    "                    Classifier1_output[j,i]=1\n",
    "                else:\n",
    "                    Classifier1_output[j,i]=-1\n",
    "        return Classifier1_output\n",
    "    \n",
    "    def predict(self,x):\n",
    "        y_predict_score=[0,0,0]\n",
    "        y_predict_score=[model0.predict_score(x),model1.predict_score(x),model2.predict_score(x)]\n",
    "        w=np.argmax(y_predict_score, axis=0)\n",
    "        return w\n",
    "        \n",
    "        \n",
    "        \n",
    "        \n",
    "        \n",
    "        \n",
    "        \n",
    "                    \n",
    "\n",
    "\n",
    "    \n",
    "    \n",
    "\n",
    "\n",
    "\n",
    "\n",
    "\n",
    "\n",
    "\n",
    "      "
   ]
  },
  {
   "cell_type": "markdown",
   "id": "126a44cb",
   "metadata": {},
   "source": [
    "# Implementation Of Multi Class Non linear SVM without sklearn.svm.SVC# "
   ]
  },
  {
   "cell_type": "markdown",
   "id": "e11cc582",
   "metadata": {},
   "source": [
    "#Fitting the data"
   ]
  },
  {
   "cell_type": "code",
   "execution_count": 29,
   "id": "6eb528d5",
   "metadata": {},
   "outputs": [],
   "source": [
    "multiSVM=MultiClassSvm()\n",
    "Classifier_output=multiSVM.individualClass(x_train[:,[0,1]],y_train)\n",
    "#print(Classifier_output)"
   ]
  },
  {
   "cell_type": "code",
   "execution_count": 30,
   "id": "91878de9",
   "metadata": {},
   "outputs": [],
   "source": [
    "model0=SVM(kernel='poly',c=1.0)\n",
    "model0.fit(x_train[:,[0,1]], Classifier_output[0])"
   ]
  },
  {
   "cell_type": "code",
   "execution_count": 31,
   "id": "6d913cab",
   "metadata": {},
   "outputs": [],
   "source": [
    "model1= SVM(kernel='poly',c=1.0)\n",
    "model1.fit(x_train[:,[0,1]], Classifier_output[1])"
   ]
  },
  {
   "cell_type": "code",
   "execution_count": 32,
   "id": "d008e8ff",
   "metadata": {},
   "outputs": [],
   "source": [
    "model2= SVM(kernel='poly',c=1.0)\n",
    "model2.fit(x_train[:,[0,1]], Classifier_output[2])"
   ]
  },
  {
   "cell_type": "markdown",
   "id": "9bcfd130",
   "metadata": {},
   "source": [
    "Predicting "
   ]
  },
  {
   "cell_type": "code",
   "execution_count": 33,
   "id": "0e498a84",
   "metadata": {},
   "outputs": [
    {
     "name": "stdout",
     "output_type": "stream",
     "text": [
      "[2 0 0 1 0 1 1 0 1 1 2 0 0 0 2]\n"
     ]
    }
   ],
   "source": [
    "y=multiSVM.predict(x_test[:,[0,1]])\n",
    "print(y)"
   ]
  },
  {
   "cell_type": "code",
   "execution_count": 34,
   "id": "57326b1d",
   "metadata": {},
   "outputs": [
    {
     "name": "stdout",
     "output_type": "stream",
     "text": [
      "[2 0 0 1 0 1 1 0 1 1 2 0 0 0 2]\n",
      "[1 0 0 2 0 1 2 0 2 1 1 0 1 0 2]\n"
     ]
    }
   ],
   "source": [
    "print(y)\n",
    "print(y_test)"
   ]
  },
  {
   "cell_type": "code",
   "execution_count": 35,
   "id": "835a639a",
   "metadata": {},
   "outputs": [
    {
     "name": "stdout",
     "output_type": "stream",
     "text": [
      "0.6\n"
     ]
    }
   ],
   "source": [
    "A3=accuracy_score(y_test, y)\n",
    "print(A3)"
   ]
  },
  {
   "cell_type": "code",
   "execution_count": 36,
   "id": "704480b3",
   "metadata": {},
   "outputs": [
    {
     "data": {
      "image/png": "[encoded data removed]",
      "text/plain": [
       "<Figure size 432x288 with 1 Axes>"
      ]
     },
     "metadata": {
      "needs_background": "light"
     },
     "output_type": "display_data"
    }
   ],
   "source": [
    "%matplotlib inline\n",
    "plot_decision_regions(x_train[:,[0,1]],y_train,clf =multiSVM)\n",
    "plt.xlabel('sepal length [cm]')\n",
    "plt.ylabel('sepal width [cm]')\n",
    "plt.show()"
   ]
  },
  {
   "cell_type": "markdown",
   "id": "1c450cd5",
   "metadata": {},
   "source": [
    "# Implementation Of Multi Class Non linear SVM with sklearn.svm.SVC\n"
   ]
  },
  {
   "cell_type": "code",
   "execution_count": 37,
   "id": "31902e3f",
   "metadata": {},
   "outputs": [
    {
     "name": "stdout",
     "output_type": "stream",
     "text": [
      "[1 0 0 1 0 1 1 0 1 1 2 0 1 0 2]\n"
     ]
    }
   ],
   "source": [
    "from sklearn import svm\n",
    "clf4 = svm.SVC( kernel='poly',degree=2)\n",
    "clf4.fit(x_train[:,[0,1]], y_train)\n",
    "y_predict_4=clf4.predict(x_test[:,[0,1]])\n",
    "print(y_predict_4)"
   ]
  },
  {
   "cell_type": "code",
   "execution_count": 38,
   "id": "163712bd",
   "metadata": {},
   "outputs": [
    {
     "name": "stdout",
     "output_type": "stream",
     "text": [
      "0.7333333333333333\n"
     ]
    }
   ],
   "source": [
    "A3=accuracy_score(y_test, y_predict_4)\n",
    "print(A3)"
   ]
  },
  {
   "cell_type": "code",
   "execution_count": 39,
   "id": "2a26c52f",
   "metadata": {},
   "outputs": [
    {
     "data": {
      "image/png": "[encoded data removed]",
      "text/plain": [
       "<Figure size 432x288 with 1 Axes>"
      ]
     },
     "metadata": {
      "needs_background": "light"
     },
     "output_type": "display_data"
    }
   ],
   "source": [
    "%matplotlib inline\n",
    "plot_decision_regions(x_train[:,[0,1]],y_train,clf =clf4)\n",
    "plt.xlabel('X1')\n",
    "plt.ylabel('X2')\n",
    "plt.show()\n",
    "\n"
   ]
  },
  {
   "cell_type": "markdown",
   "id": "2c531c88",
   "metadata": {},
   "source": [
    "# Implementation Of Multi Class linear SVM without sklearn.svm.SVC"
   ]
  },
  {
   "cell_type": "code",
   "execution_count": 40,
   "id": "5ccd1d0a",
   "metadata": {},
   "outputs": [
    {
     "name": "stdout",
     "output_type": "stream",
     "text": [
      "[2 0 0 2 0 1 1 0 1 1 2 0 0 0 2]\n",
      "0.6666666666666666\n"
     ]
    },
    {
     "data": {
      "image/png": "[encoded data removed]",
      "text/plain": [
       "<Figure size 432x288 with 1 Axes>"
      ]
     },
     "metadata": {
      "needs_background": "light"
     },
     "output_type": "display_data"
    }
   ],
   "source": [
    "\n",
    "multiSVM1=MultiClassSvm()\n",
    "model0=SVM(kernel='linear',c=1.0)\n",
    "model0.fit(x_train[:,[0,1]], Classifier_output[0])\n",
    "model1= SVM(kernel='linear',c=1.0)\n",
    "model1.fit(x_train[:,[0,1]], Classifier_output[1])\n",
    "model2= SVM(kernel='linear',c=1.0)\n",
    "model2.fit(x_train[:,[0,1]], Classifier_output[2])\n",
    "y1=multiSVM.predict(x_test[:,[0,1]])\n",
    "print(y1)\n",
    "A_3=accuracy_score(y_test, y1)\n",
    "print(A_3)\n",
    "%matplotlib inline\n",
    "plot_decision_regions(x_train[:,[0,1]],y_train,clf =multiSVM1)\n",
    "plt.xlabel('X1')\n",
    "plt.ylabel('X2')\n",
    "plt.show()\n",
    "\n",
    "\n"
   ]
  },
  {
   "cell_type": "markdown",
   "id": "fad6477a",
   "metadata": {},
   "source": [
    "# Implementation Of Multi Class linear SVM with sklearn.svm.SVC"
   ]
  },
  {
   "cell_type": "code",
   "execution_count": 41,
   "id": "67738d38",
   "metadata": {},
   "outputs": [
    {
     "name": "stdout",
     "output_type": "stream",
     "text": [
      "[1 0 0 2 0 1 1 0 1 1 2 0 1 0 2]\n"
     ]
    }
   ],
   "source": [
    "from sklearn import svm\n",
    "clf5 = svm.SVC( kernel='linear')\n",
    "clf5.fit(x_train[:,[0,1]], y_train)\n",
    "y_predict_5=clf5.predict(x_test[:,[0,1]])\n",
    "print(y_predict_5)"
   ]
  },
  {
   "cell_type": "code",
   "execution_count": 42,
   "id": "14caa5bf",
   "metadata": {},
   "outputs": [
    {
     "name": "stdout",
     "output_type": "stream",
     "text": [
      "0.8\n"
     ]
    }
   ],
   "source": [
    "A4=accuracy_score(y_test, y_predict_5)\n",
    "print(A4)"
   ]
  },
  {
   "cell_type": "code",
   "execution_count": 43,
   "id": "0497f737",
   "metadata": {},
   "outputs": [
    {
     "data": {
      "image/png": "[encoded data removed]",
      "text/plain": [
       "<Figure size 432x288 with 1 Axes>"
      ]
     },
     "metadata": {
      "needs_background": "light"
     },
     "output_type": "display_data"
    }
   ],
   "source": [
    "%matplotlib inline\n",
    "plot_decision_regions(x_train[:,[0,1]],y_train,clf =clf5)\n",
    "plt.xlabel('X1')\n",
    "plt.ylabel('X2')\n",
    "plt.show()\n",
    "\n"
   ]
  },
  {
   "cell_type": "code",
   "execution_count": null,
   "id": "9c361e5a",
   "metadata": {},
   "outputs": [],
   "source": []
  },
  {
   "cell_type": "code",
   "execution_count": null,
   "id": "315f03cf",
   "metadata": {},
   "outputs": [],
   "source": []
  }
 ],
 "metadata": {
  "kernelspec": {
   "display_name": "Python 3 (ipykernel)",
   "language": "python",
   "name": "python3"
  },
  "language_info": {
   "codemirror_mode": {
    "name": "ipython",
    "version": 3
   },
   "file_extension": ".py",
   "mimetype": "text/x-python",
   "name": "python",
   "nbconvert_exporter": "python",
   "pygments_lexer": "ipython3",
   "version": "3.9.12"
  }
 },
 "nbformat": 4,
 "nbformat_minor": 5
}
